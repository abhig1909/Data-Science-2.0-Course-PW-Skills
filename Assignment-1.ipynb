{
 "cells": [
  {
   "cell_type": "code",
   "execution_count": 1,
   "id": "9e7842b9-90a7-461b-a431-cdd2adaa8065",
   "metadata": {},
   "outputs": [
    {
     "name": "stdout",
     "output_type": "stream",
     "text": [
      "<class 'str'>\n",
      "<class 'str'>\n",
      "<class 'list'>\n",
      "<class 'float'>\n",
      "3.3333333333333335\n",
      "1\n",
      "3\n",
      "8\n",
      "10 <class 'int'>\n",
      "hello <class 'str'>\n",
      "3.14 <class 'float'>\n",
      "True <class 'bool'>\n",
      "[1, 2, 3] <class 'list'>\n",
      "(4, 5) <class 'tuple'>\n",
      "{'key': 'value'} <class 'dict'>\n",
      "None <class 'NoneType'>\n",
      "(2+3j) <class 'complex'>\n",
      "b'byte' <class 'bytes'>\n"
     ]
    },
    {
     "name": "stdin",
     "output_type": "stream",
     "text": [
      "Enter value of A:  a\n"
     ]
    },
    {
     "ename": "ValueError",
     "evalue": "invalid literal for int() with base 10: 'a'",
     "output_type": "error",
     "traceback": [
      "\u001b[1;31m---------------------------------------------------------------------------\u001b[0m",
      "\u001b[1;31mValueError\u001b[0m                                Traceback (most recent call last)",
      "Cell \u001b[1;32mIn[1], line 30\u001b[0m\n\u001b[0;32m     27\u001b[0m     \u001b[38;5;28mprint\u001b[39m(item, \u001b[38;5;28mtype\u001b[39m(item))\n\u001b[0;32m     29\u001b[0m \u001b[38;5;66;03m# Q5: Checking divisibility using while loop\u001b[39;00m\n\u001b[1;32m---> 30\u001b[0m A \u001b[38;5;241m=\u001b[39m \u001b[38;5;28mint\u001b[39m(\u001b[38;5;28minput\u001b[39m(\u001b[38;5;124m\"\u001b[39m\u001b[38;5;124mEnter value of A: \u001b[39m\u001b[38;5;124m\"\u001b[39m))\n\u001b[0;32m     31\u001b[0m B \u001b[38;5;241m=\u001b[39m \u001b[38;5;28mint\u001b[39m(\u001b[38;5;28minput\u001b[39m(\u001b[38;5;124m\"\u001b[39m\u001b[38;5;124mEnter value of B: \u001b[39m\u001b[38;5;124m\"\u001b[39m))\n\u001b[0;32m     32\u001b[0m count \u001b[38;5;241m=\u001b[39m \u001b[38;5;241m0\u001b[39m\n",
      "\u001b[1;31mValueError\u001b[0m: invalid literal for int() with base 10: 'a'"
     ]
    }
   ],
   "source": [
    "# Q1: Creating variables with different data types\n",
    "var_string = \"Hello, World!\"\n",
    "var_list = [1, 2, 3, \"Python\"]\n",
    "var_float = 3.14\n",
    "var_tuple = (10, 20, 30)\n",
    "\n",
    "# Q2: Checking data types\n",
    "var1 = ' '\n",
    "var2 = '[ DS , ML , Python]'\n",
    "var3 = ['DS', 'ML', 'Python']\n",
    "var4 = 1.0\n",
    "\n",
    "print(type(var1))  # str\n",
    "print(type(var2))  # str\n",
    "print(type(var3))  # list\n",
    "print(type(var4))  # float\n",
    "\n",
    "# Q3: Operators usage\n",
    "print(10 / 3)  # Division\n",
    "print(10 % 3)  # Modulus\n",
    "print(10 // 3) # Floor division\n",
    "print(2 ** 3)  # Exponentiation\n",
    "\n",
    "# Q4: List with multiple data types\n",
    "data_list = [10, \"hello\", 3.14, True, [1, 2, 3], (4, 5), {\"key\": \"value\"}, None, complex(2, 3), b'byte']\n",
    "for item in data_list:\n",
    "    print(item, type(item))\n",
    "\n",
    "# Q5: Checking divisibility using while loop\n",
    "A = int(input(\"Enter value of A: \"))\n",
    "B = int(input(\"Enter value of B: \"))\n",
    "count = 0\n",
    "while A % B == 0:\n",
    "    A //= B\n",
    "    count += 1\n",
    "print(f\"A is divisible by B {count} times.\")\n",
    "\n",
    "# Q6: List of 25 integers and divisibility check\n",
    "int_list = list(range(1, 26))\n",
    "for num in int_list:\n",
    "    if num % 3 == 0:\n",
    "        print(f\"{num} is divisible by 3\")\n",
    "    else:\n",
    "        print(f\"{num} is not divisible by 3\")\n",
    "\n",
    "# Q7: Mutable vs Immutable\n",
    "tuple_example = (1, 2, 3)  # Immutable\n",
    "list_example = [1, 2, 3]  # Mutable\n",
    "\n",
    "# Demonstrating immutability\n",
    "try:\n",
    "    tuple_example[0] = 10\n",
    "except TypeError:\n",
    "    print(\"Tuples are immutable\")\n",
    "\n",
    "# Demonstrating mutability\n",
    "list_example[0] = 10\n",
    "print(\"Lists are mutable:\", list_example)\n"
   ]
  },
  {
   "cell_type": "code",
   "execution_count": null,
   "id": "2ee2ee9d-af51-4ca5-9243-8b3cfa0f2cfb",
   "metadata": {},
   "outputs": [],
   "source": []
  }
 ],
 "metadata": {
  "kernelspec": {
   "display_name": "Python 3 (ipykernel)",
   "language": "python",
   "name": "python3"
  },
  "language_info": {
   "codemirror_mode": {
    "name": "ipython",
    "version": 3
   },
   "file_extension": ".py",
   "mimetype": "text/x-python",
   "name": "python",
   "nbconvert_exporter": "python",
   "pygments_lexer": "ipython3",
   "version": "3.12.7"
  }
 },
 "nbformat": 4,
 "nbformat_minor": 5
}
