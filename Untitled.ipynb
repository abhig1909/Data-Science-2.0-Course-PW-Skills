{
 "cells": [
  {
   "cell_type": "code",
   "execution_count": null,
   "id": "9a4137ce-6c80-44c4-8c0c-5fc714f79911",
   "metadata": {},
   "outputs": [],
   "source": [
    "# Q1: How to comment code in Python\n",
    "# Single-line comment using #\n",
    "\"\"\"\n",
    "Multi-line comment using triple quotes\n",
    "\"\"\"\n",
    "\n",
    "# Q2: Variables in Python\n",
    "ame = \"John Doe\"  # String variable\n",
    "age = 25  # Integer variable\n",
    "height = 5.9  # Float variable\n",
    "is_student = True  # Boolean variable\n",
    "\n",
    "# Q3: Type conversion\n",
    "num_str = \"100\"\n",
    "num_int = int(num_str)  # Convert string to integer\n",
    "num_float = float(num_int)  # Convert integer to float\n",
    "print(num_int, num_float)\n",
    "\n",
    "# Q4: Writing and executing a Python script\n",
    "# Save your script as script.py and run using: python script.py\n",
    "\n",
    "# Q5: Slicing a list\n",
    "my_list = [1, 2, 3, 4, 5]\n",
    "sub_list = my_list[1:3]  # Extracts [2, 3]\n",
    "print(sub_list)\n",
    "\n",
    "# Q6: Complex numbers\n",
    "complex_num = 3 + 4j\n",
    "print(complex_num, type(complex_num))\n",
    "\n",
    "# Q7: Declaring a variable\n",
    "age = 25\n",
    "print(age)\n",
    "\n",
    "# Q8: Declaring a float variable\n",
    "price = 9.99\n",
    "print(price, type(price))\n",
    "\n",
    "# Q9: Printing a string variable\n",
    "name = \"John Doe\"\n",
    "print(name)\n",
    "\n",
    "# Q10: Extracting substring\n",
    "text = \"Hello, World!\"\n",
    "substring = text[7:12]  # Extracts 'World'\n",
    "print(substring)\n",
    "\n",
    "# Q11: Boolean variable\n",
    "is_student = True\n",
    "print(is_student)\n"
   ]
  }
 ],
 "metadata": {
  "kernelspec": {
   "display_name": "Python 3 (ipykernel)",
   "language": "python",
   "name": "python3"
  },
  "language_info": {
   "codemirror_mode": {
    "name": "ipython",
    "version": 3
   },
   "file_extension": ".py",
   "mimetype": "text/x-python",
   "name": "python",
   "nbconvert_exporter": "python",
   "pygments_lexer": "ipython3",
   "version": "3.12.7"
  }
 },
 "nbformat": 4,
 "nbformat_minor": 5
}
